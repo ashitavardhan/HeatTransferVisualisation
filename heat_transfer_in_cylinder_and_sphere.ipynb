{
  "nbformat": 4,
  "nbformat_minor": 0,
  "metadata": {
    "colab": {
      "provenance": [],
      "authorship_tag": "ABX9TyO2coDB9+WBaAYDLI9sPeN7",
      "include_colab_link": true
    },
    "kernelspec": {
      "name": "python3",
      "display_name": "Python 3"
    },
    "language_info": {
      "name": "python"
    }
  },
  "cells": [
    {
      "cell_type": "markdown",
      "metadata": {
        "id": "view-in-github",
        "colab_type": "text"
      },
      "source": [
        "<a href=\"https://colab.research.google.com/github/ashitavardhan/HeatTransferVisualisation/blob/main/heat_transfer_in_cylinder_and_sphere.ipynb\" target=\"_parent\"><img src=\"https://colab.research.google.com/assets/colab-badge.svg\" alt=\"Open In Colab\"/></a>"
      ]
    },
    {
      "cell_type": "code",
      "execution_count": null,
      "metadata": {
        "id": "mdG3keTrleZH"
      },
      "outputs": [],
      "source": [
        "# Heat transfer in a cylindrical and spherical body\n",
        "\n",
        "import  numpy as  np\n",
        "import matplotlib.pyplot  as  plt\n",
        "import  math\n",
        "\n",
        "#input functions\n",
        "I=int(input(\"For cylinder enter 1; For sphere enter 2:\\n \"))\n",
        "# cylinder=1; sphere=2\n",
        "\n",
        "Tin=float(input(\"Enter temperature at inner radius (in kelvin):\\n\"))\n",
        "\n",
        "Tout=float(input(\"Enter temperature at outer radius (in kelvin):\\n\"))\n",
        "\n",
        "R1=float(input(\"Enter the value of inner radius (in mm):\\n\"))\n",
        "\n",
        "t=float(input(\"Enter the value of thickness (in mm):\\n\"))\n",
        "\n",
        "# main program\n",
        "R2  = R1  + t\n",
        "R = np.linspace(R1,R2,50)\n",
        "\n",
        "if  I==1:\n",
        "  T=Tin+((Tout-Tin)*(np.log(R/R1))/math.log(R2/R1))\n",
        "\n",
        "elif  I==2:\n",
        "  T=Tin+((Tout-Tin)*((1/R1)-(1/R))/((1/R1)-(1-R2)))\n",
        "\n",
        "# Plotting the graphs\n",
        "plt.plot(R,T)\n",
        "X,Y=np.meshgrid(R,T)\n",
        "Z=(X)\n",
        "\n",
        "fig,ax=plt.subplots(1,1)\n",
        "cp=ax.contourf(X,Y,Z)\n",
        "fig.colorbar(cp)\n",
        "ax.set_title(\"Temperature along Radius\")\n",
        "ax.set_xlabel(\"radius (in mm)\")\n",
        "ax.set_ylabel(\"temperature\")\n",
        "plt.style.use('classic')\n",
        "plt.show"
      ]
    }
  ]
}